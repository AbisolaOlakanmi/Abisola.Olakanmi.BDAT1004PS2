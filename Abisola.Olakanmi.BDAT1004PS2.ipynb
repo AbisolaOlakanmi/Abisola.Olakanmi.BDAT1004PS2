{
 "cells": [
  {
   "cell_type": "markdown",
   "id": "3084cbdc",
   "metadata": {},
   "source": [
    "# Question 1"
   ]
  },
  {
   "cell_type": "code",
   "execution_count": 1,
   "id": "f2283677",
   "metadata": {},
   "outputs": [
    {
     "data": {
      "text/plain": [
       "6"
      ]
     },
     "execution_count": 1,
     "metadata": {},
     "output_type": "execute_result"
    }
   ],
   "source": [
    "a = 0                 # this a has global scope\n",
    "def b():\n",
    "    global a    # all references to a in c() are to the global a\n",
    "    a = c(a)\n",
    "def c(a):\n",
    "    return a + 2\n",
    "b()\n",
    "b()\n",
    "b()\n",
    "a\n"
   ]
  },
  {
   "cell_type": "markdown",
   "id": "421e9436",
   "metadata": {},
   "source": [
    "Explanation- In the above code, b is defined as the function of the global variable\n",
    "So function c takes a as a parameter and returns each time with an increament of 2\n",
    "hence, when we run \n",
    "the first b() it will return 2\n",
    "the second b() will return 4\n",
    "the third b() will retrun 6\n",
    "therefore a =6"
   ]
  },
  {
   "cell_type": "markdown",
   "id": "c618a9ae",
   "metadata": {},
   "source": [
    "# Question 2"
   ]
  },
  {
   "cell_type": "code",
   "execution_count": 10,
   "id": "e8807a32",
   "metadata": {},
   "outputs": [
    {
     "name": "stdout",
     "output_type": "stream",
     "text": [
      ">>> fileLength('idterm.py not found') \n"
     ]
    }
   ],
   "source": [
    "#2\n",
    "def fileLength(file):\n",
    "    try:\n",
    "        file=open(file)\n",
    "        contents=file.read()\n",
    "        file.close()\n",
    "        print(len(contents))\n",
    "    except:\n",
    "        FileNotFoundError()\n",
    "        print(\"File \"+ file + \"not found\")\n",
    "        \n",
    "# print(\">>> fileLength('midterm.py')\")\n",
    "# fileLength('FileLength.txt')\n",
    "\n",
    "print(\">>> fileLength('idterm.py not found') \")\n"
   ]
  },
  {
   "cell_type": "markdown",
   "id": "734df046",
   "metadata": {},
   "source": [
    "# Question 3"
   ]
  },
  {
   "cell_type": "code",
   "execution_count": 8,
   "id": "1749560c",
   "metadata": {},
   "outputs": [
    {
     "data": {
      "text/plain": [
       "['doll', 'firetruck', 'kitten']"
      ]
     },
     "execution_count": 8,
     "metadata": {},
     "output_type": "execute_result"
    }
   ],
   "source": [
    "class Marsupial(): #class named Marsupial \n",
    "    def __init__(self):\n",
    "        self.contents = [] #creating an empty list to store contents\n",
    "    \n",
    "    def put_in_pouch(self,thing):\n",
    "        self.contents.append(thing) #append to contents\n",
    "        \n",
    "    def pouch_contents(self):\n",
    "        return self.contents #return the contents of the list \n",
    "        \n",
    "m=Marsupial()\n",
    "m.put_in_pouch('doll')\n",
    "m.put_in_pouch('firetruck')\n",
    "m.put_in_pouch('kitten')\n",
    "m.pouch_contents()"
   ]
  },
  {
   "cell_type": "markdown",
   "id": "9152c3db",
   "metadata": {},
   "source": [
    "# Question 3b"
   ]
  },
  {
   "cell_type": "code",
   "execution_count": 9,
   "id": "560fcfe3",
   "metadata": {},
   "outputs": [
    {
     "name": "stdout",
     "output_type": "stream",
     "text": [
      "I am a kangaroo located at coordinates(0,0)\n",
      "I am a kangaroo located at coordinates(3,0)\n"
     ]
    }
   ],
   "source": [
    "#3b\n",
    "class kangaroo(Marsupial):#subclass of Marsupial that inherits all the Marsupial\n",
    "    def __init__(self,x,y): #the coordinates x and y of the Kangaroo object,\n",
    "        Marsupial.__init__(self)\n",
    "        self.y=y\n",
    "        self.x=x\n",
    "    def jump(self,dx,dy):\n",
    "        self.x = self.x+dx\n",
    "        self.y = self.y+dy\n",
    "    def __str__(self):\n",
    "        return 'I am a kangaroo located at coordinates({},{})'.format(self.x,self.y)\n",
    "    \n",
    "k=kangaroo(0,0)\n",
    "print(k)\n",
    "k.put_in_pouch('doll')\n",
    "k.put_in_pouch('firetruck')\n",
    "k.put_in_pouch('kitten')\n",
    "k.pouch_contents()\n",
    "k.jump(1,0)\n",
    "k.jump(1,0)\n",
    "k.jump(1,0)\n",
    "print(k)"
   ]
  },
  {
   "cell_type": "markdown",
   "id": "fabdd9ef",
   "metadata": {},
   "source": [
    "# Question 4"
   ]
  },
  {
   "cell_type": "code",
   "execution_count": 14,
   "id": "79d2c40d",
   "metadata": {},
   "outputs": [
    {
     "name": "stdout",
     "output_type": "stream",
     "text": [
      ">>> collatz(1) \n",
      "1\n",
      ">>> collatz(10) \n",
      "10\n",
      "5\n",
      "16\n",
      "8\n",
      "4\n",
      "2\n",
      "1\n"
     ]
    }
   ],
   "source": [
    "#4\n",
    "def collatz(x):\n",
    "    if x==1:\n",
    "        print(x)\n",
    "        return\n",
    "    elif x%2==0:\n",
    "        print(x)\n",
    "        collatz(x//2)#using recursion\n",
    "    else:\n",
    "        print(x)\n",
    "        collatz(3*x+1) #using recursion\n",
    "print(\">>> collatz(1) \")        \n",
    "collatz(1)\n",
    "print(\">>> collatz(10) \")\n",
    "collatz(10)"
   ]
  },
  {
   "cell_type": "markdown",
   "id": "c933fc18",
   "metadata": {},
   "source": [
    "# Question 5"
   ]
  },
  {
   "cell_type": "code",
   "execution_count": 22,
   "id": "97f52ceb",
   "metadata": {},
   "outputs": [
    {
     "name": "stdout",
     "output_type": "stream",
     "text": [
      "0\n",
      "1\n",
      "11\n",
      "1001\n"
     ]
    }
   ],
   "source": [
    "def binary(n):\n",
    "    if n == 0:\n",
    "        return 0 \n",
    "    else:\n",
    "        return (n % 2 + 10 * binary(int(n // 2))) #Print out the binary numbers of Integer n\n",
    "\n",
    "print(binary(0))\n",
    "print(binary(1))\n",
    "print(binary(3))\n",
    "print(binary(9))"
   ]
  },
  {
   "cell_type": "markdown",
   "id": "705e2c94",
   "metadata": {},
   "source": [
    "# Question 7"
   ]
  },
  {
   "cell_type": "code",
   "execution_count": 1,
   "id": "8ba60259",
   "metadata": {},
   "outputs": [
    {
     "name": "stdout",
     "output_type": "stream",
     "text": [
      " http://reed.cs.depaul.edu/lperkovic/test1.html\n",
      "         http://reed.cs.depaul.edu/lperkovic/test2.html\n",
      "                 http://reed.cs.depaul.edu/lperkovic/test4.html\n",
      "         http://reed.cs.depaul.edu/lperkovic/test3.html\n",
      "                 http://reed.cs.depaul.edu/lperkovic/test4.html\n"
     ]
    }
   ],
   "source": [
    "#importing libraries\n",
    "from urllib.parse import urljoin  \n",
    "from html.parser import HTMLParser\n",
    "from urllib.request import urlopen\n",
    "\n",
    "from html.parser import HTMLParser    \n",
    "from urllib.request import urlopen\n",
    "from urllib.parse import urljoin\n",
    "\n",
    "class Parser(HTMLParser):\n",
    "\n",
    "    def __init__(self, url):\n",
    "        HTMLParser.__init__(self)\n",
    "        self.url = url\n",
    "        self.url_list = []\n",
    "\n",
    "    def append_list(self):\n",
    "        return self.url_list\n",
    "\n",
    "    def handle_starttag(self, tags, attri):\n",
    "        for head in attri:\n",
    "            contents = urljoin(self.url, head[1])\n",
    "            if contents[:4] == 'http': \n",
    "                self.url_list.append(contents)\n",
    "indentation = 0\n",
    "def webdir(url, distance, indentation):\n",
    "   \n",
    "\n",
    "    distance -= 1    \n",
    "    print(indentation*'  ', url)         \n",
    "\n",
    "    object = urlopen(url).read().decode()\n",
    "    column = Parser(url)\n",
    "    column.feed(object)\n",
    "    url_link = column.append_list() \n",
    " \n",
    "    url_list = url_link\n",
    "    indentation += 4\n",
    "\n",
    "    for links in url_list:\n",
    "        if distance < 0 or indentation < 0:\n",
    "            return 1\n",
    "        else:\n",
    "            webdir(links, distance, indentation)\n",
    "            \n",
    "webdir('http://reed.cs.depaul.edu/lperkovic/test1.html', 2, 0)"
   ]
  },
  {
   "cell_type": "markdown",
   "id": "46d97423",
   "metadata": {},
   "source": [
    "# Question 9"
   ]
  },
  {
   "cell_type": "code",
   "execution_count": 11,
   "id": "18b0f29e",
   "metadata": {},
   "outputs": [
    {
     "name": "stdout",
     "output_type": "stream",
     "text": [
      "['THE', 'QUICK', 'BROWN', 'FOX', 'JUMPS', 'OVER', 'THE', 'LAZY', 'DOG']\n",
      "['the', 'quick', 'brown', 'fox', 'jumps', 'over', 'the', 'lazy', 'dog']\n",
      "[3, 5, 5, 3, 5, 4, 3, 4, 3]\n",
      "[('THE', 'the', 3), ('QUICK', 'quick', 5), ('BROWN', 'brown', 5), ('FOX', 'fox', 3), ('JUMPS', 'jumps', 5), ('OVER', 'over', 4), ('THE', 'the', 3), ('LAZY', 'lazy', 4), ('DOG', 'dog', 3)]\n",
      "['quick', 'brown', 'jumps', 'over', 'lazy']\n"
     ]
    }
   ],
   "source": [
    "words = ['The', 'quick', 'brown', 'fox', 'jumps', 'over', 'the', 'lazy', 'dog']\n",
    "list_words = [a.upper() for a in words] #list the words in uppercase\n",
    "print (list_words)\n",
    "list_words = [b.lower() for b in words]  #list the words in lowecase\n",
    "print (list_words)\n",
    "list_words = [len(c) for c in words] #the list of lengths of words in list words).\n",
    "print (list_words)\n",
    "list_words = [(d.upper(),d.lower(),len(d)) for d in words]  #list containing the word in uppercase and lowercase and the length of the word\n",
    "print (list_words)\n",
    "list_words = [e for e in words if len(e)>=4] #list of words contanining 4 or more characters\n",
    "print (list_words)"
   ]
  },
  {
   "cell_type": "code",
   "execution_count": null,
   "id": "b044695a",
   "metadata": {},
   "outputs": [],
   "source": []
  },
  {
   "cell_type": "code",
   "execution_count": null,
   "id": "98ab5ce0",
   "metadata": {},
   "outputs": [],
   "source": []
  },
  {
   "cell_type": "code",
   "execution_count": null,
   "id": "dcec305f",
   "metadata": {},
   "outputs": [],
   "source": []
  }
 ],
 "metadata": {
  "kernelspec": {
   "display_name": "Python 3 (ipykernel)",
   "language": "python",
   "name": "python3"
  },
  "language_info": {
   "codemirror_mode": {
    "name": "ipython",
    "version": 3
   },
   "file_extension": ".py",
   "mimetype": "text/x-python",
   "name": "python",
   "nbconvert_exporter": "python",
   "pygments_lexer": "ipython3",
   "version": "3.10.9"
  }
 },
 "nbformat": 4,
 "nbformat_minor": 5
}
