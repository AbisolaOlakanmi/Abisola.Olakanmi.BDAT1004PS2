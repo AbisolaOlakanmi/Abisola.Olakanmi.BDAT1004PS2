{
 "cells": [
  {
   "cell_type": "code",
   "execution_count": 1,
   "id": "aab2ece8",
   "metadata": {},
   "outputs": [
    {
     "data": {
      "text/plain": [
       "6"
      ]
     },
     "execution_count": 1,
     "metadata": {},
     "output_type": "execute_result"
    }
   ],
   "source": [
    "a = 0                 # this a has global scope\n",
    "def b():\n",
    "    global a    # all references to a in c() are to the global a\n",
    "    a = c(a)\n",
    "def c(a):\n",
    "    return a + 2\n",
    "b()\n",
    "b()\n",
    "b()\n",
    "a\n"
   ]
  },
  {
   "cell_type": "markdown",
   "id": "b2098f46",
   "metadata": {},
   "source": [
    "Explanation- In the above code, b is defined as the function of the global variable\n",
    "So function c takes a as a parameter and returns each time with an increament of 2\n",
    "hence, when we run \n",
    "the first b() it will return 2\n",
    "the second b() will return 4\n",
    "the third b() will retrun 6\n",
    "therefore a =6"
   ]
  },
  {
   "cell_type": "code",
   "execution_count": 10,
   "id": "091ee9d7",
   "metadata": {},
   "outputs": [
    {
     "name": "stdout",
     "output_type": "stream",
     "text": [
      ">>> fileLength('idterm.py not found') \n"
     ]
    }
   ],
   "source": [
    "#2\n",
    "def fileLength(file):\n",
    "    try:\n",
    "        file=open(file)\n",
    "        contents=file.read()\n",
    "        file.close()\n",
    "        print(len(contents))\n",
    "    except:\n",
    "        FileNotFoundError()\n",
    "        print(\"File \"+ file + \"not found\")\n",
    "        \n",
    "# print(\">>> fileLength('midterm.py')\")\n",
    "# fileLength('FileLength.txt')\n",
    "\n",
    "print(\">>> fileLength('idterm.py not found') \")\n"
   ]
  },
  {
   "cell_type": "code",
   "execution_count": 8,
   "id": "cd47e02a",
   "metadata": {},
   "outputs": [
    {
     "data": {
      "text/plain": [
       "['doll', 'firetruck', 'kitten']"
      ]
     },
     "execution_count": 8,
     "metadata": {},
     "output_type": "execute_result"
    }
   ],
   "source": [
    "#3\n",
    "class Marsupial(): #class named Marsupial \n",
    "    def __init__(self):\n",
    "        self.contents = [] #creating an empty list to store contents\n",
    "    \n",
    "    def put_in_pouch(self,thing):\n",
    "        self.contents.append(thing) #append to contents\n",
    "        \n",
    "    def pouch_contents(self):\n",
    "        return self.contents # this will return the contents of the list \n",
    "        \n",
    "m=Marsupial()\n",
    "m.put_in_pouch('doll')\n",
    "m.put_in_pouch('firetruck')\n",
    "m.put_in_pouch('kitten')\n",
    "m.pouch_contents()"
   ]
  },
  {
   "cell_type": "code",
   "execution_count": 9,
   "id": "331b34ea",
   "metadata": {},
   "outputs": [
    {
     "name": "stdout",
     "output_type": "stream",
     "text": [
      "I am a kangaroo located at coordinates(0,0)\n",
      "I am a kangaroo located at coordinates(3,0)\n"
     ]
    }
   ],
   "source": [
    "#3b\n",
    "class kangaroo(Marsupial):#subclass of Marsupial that inherits all the Marsupial\n",
    "    def __init__(self,x,y): #the coordinates x and y of the Kangaroo object,\n",
    "        Marsupial.__init__(self)\n",
    "        self.y=y\n",
    "        self.x=x\n",
    "    def jump(self,dx,dy):\n",
    "        self.x = self.x+dx\n",
    "        self.y = self.y+dy\n",
    "    def __str__(self):\n",
    "        return 'I am a kangaroo located at coordinates({},{})'.format(self.x,self.y)\n",
    "    \n",
    "k=kangaroo(0,0)\n",
    "print(k)\n",
    "k.put_in_pouch('doll')\n",
    "k.put_in_pouch('firetruck')\n",
    "k.put_in_pouch('kitten')\n",
    "k.pouch_contents()\n",
    "k.jump(1,0)\n",
    "k.jump(1,0)\n",
    "k.jump(1,0)\n",
    "print(k)"
   ]
  },
  {
   "cell_type": "code",
   "execution_count": 11,
   "id": "38c3447d",
   "metadata": {},
   "outputs": [
    {
     "name": "stdout",
     "output_type": "stream",
     "text": [
      "1\n",
      "10\n",
      "5\n",
      "16\n",
      "8\n",
      "4\n",
      "2\n",
      "1\n"
     ]
    }
   ],
   "source": [
    "#4\n",
    "def collatz(x):\n",
    "    if x==1:\n",
    "        print(x)\n",
    "        return\n",
    "    elif x%2==0:\n",
    "        print(x)\n",
    "        collatz(x//2)#using recursion\n",
    "    else:\n",
    "        print(x)\n",
    "        collatz(3*x+1) #using recursion\n",
    "print(\">>> collatz of 1: \")        \n",
    "collatz(1)\n",
    "print(\">>> collatz of 10: \")\n",
    "collatz(10)"
   ]
  },
  {
   "cell_type": "code",
   "execution_count": null,
   "id": "2efb4146",
   "metadata": {},
   "outputs": [],
   "source": []
  },
  {
   "cell_type": "code",
   "execution_count": null,
   "id": "b6efae25",
   "metadata": {},
   "outputs": [],
   "source": []
  },
  {
   "cell_type": "code",
   "execution_count": null,
   "id": "abf32f99",
   "metadata": {},
   "outputs": [],
   "source": []
  },
  {
   "cell_type": "code",
   "execution_count": null,
   "id": "664c9c40",
   "metadata": {},
   "outputs": [],
   "source": []
  },
  {
   "cell_type": "code",
   "execution_count": null,
   "id": "17100ca0",
   "metadata": {},
   "outputs": [],
   "source": []
  },
  {
   "cell_type": "code",
   "execution_count": null,
   "id": "ca0a97d3",
   "metadata": {},
   "outputs": [],
   "source": []
  },
  {
   "cell_type": "code",
   "execution_count": null,
   "id": "6f3e1384",
   "metadata": {},
   "outputs": [],
   "source": []
  },
  {
   "cell_type": "code",
   "execution_count": null,
   "id": "b01dc06f",
   "metadata": {},
   "outputs": [],
   "source": []
  }
 ],
 "metadata": {
  "kernelspec": {
   "display_name": "Python 3 (ipykernel)",
   "language": "python",
   "name": "python3"
  },
  "language_info": {
   "codemirror_mode": {
    "name": "ipython",
    "version": 3
   },
   "file_extension": ".py",
   "mimetype": "text/x-python",
   "name": "python",
   "nbconvert_exporter": "python",
   "pygments_lexer": "ipython3",
   "version": "3.10.9"
  }
 },
 "nbformat": 4,
 "nbformat_minor": 5
}
