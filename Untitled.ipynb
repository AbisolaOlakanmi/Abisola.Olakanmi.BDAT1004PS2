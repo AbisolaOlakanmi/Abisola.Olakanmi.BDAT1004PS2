{
 "cells": [
  {
   "cell_type": "code",
   "execution_count": 1,
   "id": "9c841968",
   "metadata": {},
   "outputs": [
    {
     "data": {
      "text/plain": [
       "6"
      ]
     },
     "execution_count": 1,
     "metadata": {},
     "output_type": "execute_result"
    }
   ],
   "source": [
    "a = 0                 # this a has global scope\n",
    "def b():\n",
    "    global a    # all references to a in c() are to the global a\n",
    "    a = c(a)\n",
    "def c(a):\n",
    "    return a + 2\n",
    "b()\n",
    "b()\n",
    "b()\n",
    "a\n"
   ]
  },
  {
   "cell_type": "markdown",
   "id": "57ab2ad0",
   "metadata": {},
   "source": [
    "Explanation- In the above code, b is defined as the function of the global variable\n",
    "So function c takes a as a parameter and returns each time with an increament of 2\n",
    "hence, when we run \n",
    "the first b() it will return 2\n",
    "the second b() will return 4\n",
    "the third b() will retrun 6\n",
    "therefore a =6"
   ]
  },
  {
   "cell_type": "code",
   "execution_count": 5,
   "id": "971bf458",
   "metadata": {},
   "outputs": [
    {
     "ename": "SyntaxError",
     "evalue": "invalid syntax. Perhaps you forgot a comma? (2404925783.py, line 15)",
     "output_type": "error",
     "traceback": [
      "\u001b[1;36m  Cell \u001b[1;32mIn[5], line 15\u001b[1;36m\u001b[0m\n\u001b[1;33m    print(\">>> fileLength('idterm.py') + \"not found\" \")\u001b[0m\n\u001b[1;37m          ^\u001b[0m\n\u001b[1;31mSyntaxError\u001b[0m\u001b[1;31m:\u001b[0m invalid syntax. Perhaps you forgot a comma?\n"
     ]
    }
   ],
   "source": [
    "#2\n",
    "def fileLength(file):\n",
    "    try:\n",
    "        file=open(file)\n",
    "        contents=file.read()\n",
    "        file.close()\n",
    "        print(len(contents))\n",
    "    except:\n",
    "        FileNotFoundError()\n",
    "        print(\"File \"+ file + \"not found\")\n",
    "        \n",
    "print(\">>> fileLength('midterm.py')\")\n",
    "fileLength('FileLength.txt')\n",
    "\n",
    "print(\">>> fileLength('idterm.py') + \"not found\" \")\n"
   ]
  },
  {
   "cell_type": "code",
   "execution_count": null,
   "id": "f6303e6f",
   "metadata": {},
   "outputs": [],
   "source": []
  },
  {
   "cell_type": "code",
   "execution_count": null,
   "id": "36e17e5b",
   "metadata": {},
   "outputs": [],
   "source": []
  },
  {
   "cell_type": "code",
   "execution_count": null,
   "id": "15085709",
   "metadata": {},
   "outputs": [],
   "source": []
  },
  {
   "cell_type": "code",
   "execution_count": null,
   "id": "41bf74e4",
   "metadata": {},
   "outputs": [],
   "source": []
  },
  {
   "cell_type": "code",
   "execution_count": null,
   "id": "a2638603",
   "metadata": {},
   "outputs": [],
   "source": []
  },
  {
   "cell_type": "code",
   "execution_count": null,
   "id": "ccaf9bb1",
   "metadata": {},
   "outputs": [],
   "source": []
  },
  {
   "cell_type": "code",
   "execution_count": null,
   "id": "f295497d",
   "metadata": {},
   "outputs": [],
   "source": []
  },
  {
   "cell_type": "code",
   "execution_count": null,
   "id": "718ed8fc",
   "metadata": {},
   "outputs": [],
   "source": []
  },
  {
   "cell_type": "code",
   "execution_count": null,
   "id": "e306568c",
   "metadata": {},
   "outputs": [],
   "source": []
  },
  {
   "cell_type": "code",
   "execution_count": null,
   "id": "81b2843c",
   "metadata": {},
   "outputs": [],
   "source": []
  },
  {
   "cell_type": "code",
   "execution_count": null,
   "id": "90c22c98",
   "metadata": {},
   "outputs": [],
   "source": []
  }
 ],
 "metadata": {
  "kernelspec": {
   "display_name": "Python 3 (ipykernel)",
   "language": "python",
   "name": "python3"
  },
  "language_info": {
   "codemirror_mode": {
    "name": "ipython",
    "version": 3
   },
   "file_extension": ".py",
   "mimetype": "text/x-python",
   "name": "python",
   "nbconvert_exporter": "python",
   "pygments_lexer": "ipython3",
   "version": "3.10.9"
  }
 },
 "nbformat": 4,
 "nbformat_minor": 5
}
