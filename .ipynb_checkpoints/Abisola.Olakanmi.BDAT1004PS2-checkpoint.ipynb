{
 "cells": [
  {
   "cell_type": "markdown",
   "id": "648ea3b8",
   "metadata": {},
   "source": [
    "# Question 1"
   ]
  },
  {
   "cell_type": "code",
   "execution_count": 1,
   "id": "f2283677",
   "metadata": {},
   "outputs": [
    {
     "data": {
      "text/plain": [
       "6"
      ]
     },
     "execution_count": 1,
     "metadata": {},
     "output_type": "execute_result"
    }
   ],
   "source": [
    "a = 0       # this a has global scope\n",
    "def b():\n",
    "    global a    # all references to a in c() are to the global a\n",
    "    a = c(a)\n",
    "def c(a):\n",
    "    return a + 2\n",
    "b()\n",
    "b()\n",
    "b()\n",
    "a\n"
   ]
  },
  {
   "cell_type": "markdown",
   "id": "b6b77317",
   "metadata": {},
   "source": [
    "#Explanation- In the above code, b is defined as the function of the global variable\n",
    "So function c takes a as a parameter and returns each time with an increament of 2\n",
    "hence, when we run \n",
    "the first b() it will return 2\n",
    "the second b() will return 4\n",
    "the third b() will retrun 6\n",
    "therefore a =6"
   ]
  },
  {
   "cell_type": "markdown",
   "id": "2f33cf7b",
   "metadata": {},
   "source": [
    "# Question 2"
   ]
  },
  {
   "cell_type": "code",
   "execution_count": 2,
   "id": "e8807a32",
   "metadata": {},
   "outputs": [
    {
     "name": "stdout",
     "output_type": "stream",
     "text": [
      ">>> fileLength('idterm.py not found') \n"
     ]
    }
   ],
   "source": [
    "#2\n",
    "def fileLength(file):\n",
    "    try:\n",
    "        file=open(file)\n",
    "        contents=file.read()\n",
    "        file.close()\n",
    "        print(len(contents))\n",
    "    except:\n",
    "        FileNotFoundError()\n",
    "        print(\"File \"+ file + \"not found\")\n",
    "        \n",
    "# print(\">>> fileLength('midterm.py')\")\n",
    "# fileLength('FileLength.txt')\n",
    "\n",
    "print(\">>> fileLength('idterm.py not found') \")\n"
   ]
  },
  {
   "cell_type": "markdown",
   "id": "df7a9769",
   "metadata": {},
   "source": [
    "# Question 3"
   ]
  },
  {
   "cell_type": "code",
   "execution_count": 3,
   "id": "1749560c",
   "metadata": {},
   "outputs": [
    {
     "data": {
      "text/plain": [
       "['doll', 'firetruck', 'kitten']"
      ]
     },
     "execution_count": 3,
     "metadata": {},
     "output_type": "execute_result"
    }
   ],
   "source": [
    "class Marsupial(): #class named Marsupial \n",
    "    def __init__(self):\n",
    "        self.contents = [] #creating an empty list to store contents\n",
    "    \n",
    "    def put_in_pouch(self,thing):\n",
    "        self.contents.append(thing) #append to contents\n",
    "        \n",
    "    def pouch_contents(self):\n",
    "        return self.contents #return the contents of the list \n",
    "        \n",
    "m=Marsupial()\n",
    "m.put_in_pouch('doll')\n",
    "m.put_in_pouch('firetruck')\n",
    "m.put_in_pouch('kitten')\n",
    "m.pouch_contents()"
   ]
  },
  {
   "cell_type": "markdown",
   "id": "46888024",
   "metadata": {},
   "source": [
    "# Question 3b"
   ]
  },
  {
   "cell_type": "code",
   "execution_count": 4,
   "id": "560fcfe3",
   "metadata": {},
   "outputs": [
    {
     "name": "stdout",
     "output_type": "stream",
     "text": [
      "I am a kangaroo located at coordinates(0,0)\n",
      "I am a kangaroo located at coordinates(3,0)\n"
     ]
    }
   ],
   "source": [
    "#3b\n",
    "class kangaroo(Marsupial):#subclass of Marsupial that inherits all the Marsupial\n",
    "    def __init__(self,x,y): #the coordinates x and y of the Kangaroo object,\n",
    "        Marsupial.__init__(self)\n",
    "        self.y=y\n",
    "        self.x=x\n",
    "    def jump(self,dx,dy):\n",
    "        self.x = self.x+dx\n",
    "        self.y = self.y+dy\n",
    "    def __str__(self):\n",
    "        return 'I am a kangaroo located at coordinates({},{})'.format(self.x,self.y)\n",
    "    \n",
    "k=kangaroo(0,0)\n",
    "print(k)\n",
    "k.put_in_pouch('doll')\n",
    "k.put_in_pouch('firetruck')\n",
    "k.put_in_pouch('kitten')\n",
    "k.pouch_contents()\n",
    "k.jump(1,0)\n",
    "k.jump(1,0)\n",
    "k.jump(1,0)\n",
    "print(k)"
   ]
  },
  {
   "cell_type": "markdown",
   "id": "42d5a3e9",
   "metadata": {},
   "source": [
    "# Question 4"
   ]
  },
  {
   "cell_type": "code",
   "execution_count": 5,
   "id": "79d2c40d",
   "metadata": {},
   "outputs": [
    {
     "name": "stdout",
     "output_type": "stream",
     "text": [
      ">>> collatz(1) \n",
      "1\n",
      ">>> collatz(10) \n",
      "10\n",
      "5\n",
      "16\n",
      "8\n",
      "4\n",
      "2\n",
      "1\n"
     ]
    }
   ],
   "source": [
    "#4\n",
    "def collatz(x):\n",
    "    if x==1:\n",
    "        print(x)\n",
    "        return\n",
    "    elif x%2==0:\n",
    "        print(x)\n",
    "        collatz(x//2)#using recursion\n",
    "    else:\n",
    "        print(x)\n",
    "        collatz(3*x+1) #using recursion\n",
    "print(\">>> collatz(1) \")        \n",
    "collatz(1)\n",
    "print(\">>> collatz(10) \")\n",
    "collatz(10)"
   ]
  },
  {
   "cell_type": "markdown",
   "id": "674c91bb",
   "metadata": {},
   "source": [
    "# Question 5"
   ]
  },
  {
   "cell_type": "code",
   "execution_count": 6,
   "id": "97f52ceb",
   "metadata": {},
   "outputs": [
    {
     "name": "stdout",
     "output_type": "stream",
     "text": [
      "0\n",
      "1\n",
      "11\n",
      "1001\n"
     ]
    }
   ],
   "source": [
    "def binary(n):\n",
    "    if n == 0:\n",
    "        return 0 \n",
    "    else:\n",
    "        return (n % 2 + 10 * binary(int(n // 2))) #Print out the binary numbers of Integer n\n",
    "\n",
    "print(binary(0))\n",
    "print(binary(1))\n",
    "print(binary(3))\n",
    "print(binary(9))"
   ]
  },
  {
   "cell_type": "markdown",
   "id": "df27392c",
   "metadata": {},
   "source": [
    "# Question 6"
   ]
  },
  {
   "cell_type": "code",
   "execution_count": 8,
   "id": "4a7579fa",
   "metadata": {},
   "outputs": [
    {
     "name": "stdout",
     "output_type": "stream",
     "text": [
      "Enter the HTML file name (e.g., w3c.html) w3c.txt\n",
      "W3C Mission\n",
      "\n",
      "\t\n",
      "Principles\n"
     ]
    }
   ],
   "source": [
    "from html.parser import HTMLParser\n",
    "\n",
    "class HeadingParser(HTMLParser):\n",
    "    def __init__(self):\n",
    "        # Initialize the HeadingParser\n",
    "        super().__init__()\n",
    "        self.indentation = 0\n",
    "        self.inside_heading = False\n",
    "\n",
    "    def handle_starttag(self, tag, attrs):\n",
    "        # Handle start tags to identify heading tags and set indentation level\n",
    "        if tag.startswith('h1') and tag[1:].isdigit():\n",
    "            # Extract the heading level (1, 2, 3, etc.)\n",
    "            heading_level = int(tag[1])\n",
    "            self.inside_heading = True\n",
    "            self.indentation = heading_level - 1\n",
    "            \n",
    "        # Handle end tags to reset indentation when exiting a headin\n",
    "    def handle_endtag(self, tag):\n",
    "        if self.inside_heading and tag.startswith('h2') and tag[1:].isdigit():\n",
    "            self.inside_heading = False\n",
    "            self.indentation = 0\n",
    "            \n",
    "        # Handle data to print the heading with the appropriate indentation\n",
    "    def handle_data(self, data):\n",
    "        if self.inside_heading:\n",
    "            print(' ' * self.indentation + data)\n",
    "\n",
    "with open(\"w3c.txt\") as infile:\n",
    "        content = infile.read()  \n",
    "file_name = input(\"Enter the HTML file name (e.g., w3c.html) \")\n",
    "\n",
    "# Create HeadingParser instance and feed it with HTML content\n",
    "hp = HeadingParser()\n",
    "hp.feed(content)"
   ]
  },
  {
   "cell_type": "markdown",
   "id": "b07b488d",
   "metadata": {},
   "source": [
    "# Question 7"
   ]
  },
  {
   "cell_type": "code",
   "execution_count": 8,
   "id": "8ba60259",
   "metadata": {},
   "outputs": [
    {
     "name": "stdout",
     "output_type": "stream",
     "text": [
      " http://reed.cs.depaul.edu/lperkovic/test1.html\n",
      "         http://reed.cs.depaul.edu/lperkovic/test2.html\n",
      "                 http://reed.cs.depaul.edu/lperkovic/test4.html\n",
      "         http://reed.cs.depaul.edu/lperkovic/test3.html\n",
      "                 http://reed.cs.depaul.edu/lperkovic/test4.html\n"
     ]
    }
   ],
   "source": [
    "#importing libraries\n",
    "from urllib.parse import urljoin  \n",
    "from html.parser import HTMLParser\n",
    "from urllib.request import urlopen\n",
    "\n",
    "from html.parser import HTMLParser    \n",
    "from urllib.request import urlopen\n",
    "from urllib.parse import urljoin\n",
    "\n",
    "class Parser(HTMLParser):\n",
    "\n",
    "    def __init__(self, url):\n",
    "        HTMLParser.__init__(self)\n",
    "        self.url = url\n",
    "        self.url_list = []\n",
    "\n",
    "    def append_list(self):\n",
    "        return self.url_list\n",
    "\n",
    "    def handle_starttag(self, tags, attri):\n",
    "        for head in attri:\n",
    "            contents = urljoin(self.url, head[1])\n",
    "            if contents[:4] == 'http': \n",
    "                self.url_list.append(contents)\n",
    "indentation = 0\n",
    "def webdir(url, distance, indentation):\n",
    "   \n",
    "\n",
    "    distance -= 1    \n",
    "    print(indentation*'  ', url)         \n",
    "\n",
    "    object = urlopen(url).read().decode()\n",
    "    column = Parser(url)\n",
    "    column.feed(object)\n",
    "    url_link = column.append_list() \n",
    " \n",
    "    url_list = url_link\n",
    "    indentation += 4\n",
    "\n",
    "    for links in url_list:\n",
    "        if distance < 0 or indentation < 0:\n",
    "            return 1\n",
    "        else:\n",
    "            webdir(links, distance, indentation)\n",
    "            \n",
    "webdir('http://reed.cs.depaul.edu/lperkovic/test1.html', 2, 0)"
   ]
  },
  {
   "cell_type": "markdown",
   "id": "e40301c7",
   "metadata": {},
   "source": [
    "# Question 8"
   ]
  },
  {
   "cell_type": "code",
   "execution_count": 9,
   "id": "b044695a",
   "metadata": {},
   "outputs": [],
   "source": [
    "import sqlite3\n",
    "con = sqlite3.connect('web.db')\n",
    "cur = con.cursor()"
   ]
  },
  {
   "cell_type": "code",
   "execution_count": 10,
   "id": "98ab5ce0",
   "metadata": {},
   "outputs": [],
   "source": [
    "cur.execute(\"CREATE TABLE CITY_DATA (City text, Country text, Season text, Temperature float, Rainfall float)\")\n",
    "data=[('Mumbai', 'India','Winter',24.8, 5.9),\n",
    "      ('Mumbai','India','Spring',28.4,16.2),\n",
    "      ('Mumbai','India','Summer',27.9,1549.4),\n",
    "     ('Mumbai','India','Fall',27.6,346.0),\n",
    "      ('London','United Kingdom','Winter',4.2,207.7),\n",
    "     ('London','United Kingdom','Spring',8.3,169.6),\n",
    "      ('London','United Kingdom','Summer',15.7,157.0),\n",
    "     ('London','United Kingdom','Fall',10.4,218.5),\n",
    "      ('Cairo','Egypt','Winter',13.6,16.5),\n",
    "      ('Cairo','Egypt','Spring',20.7,6.5),\n",
    "     ('Cairo','Egypt','Summer',27.7,0.1),\n",
    "      ('Cairo','Egypt','Fall',22.2,4.5)]\n",
    "for cities in data:\n",
    "    cur.execute(\"INSERT INTO CITY_DATA VALUES (?,?,?,?,?)\",cities)\n",
    "    con.commit()"
   ]
  },
  {
   "cell_type": "code",
   "execution_count": 11,
   "id": "dcec305f",
   "metadata": {},
   "outputs": [
    {
     "data": {
      "text/plain": [
       "[(24.8,),\n",
       " (28.4,),\n",
       " (27.9,),\n",
       " (27.6,),\n",
       " (4.2,),\n",
       " (8.3,),\n",
       " (15.7,),\n",
       " (10.4,),\n",
       " (13.6,),\n",
       " (20.7,),\n",
       " (27.7,),\n",
       " (22.2,)]"
      ]
     },
     "execution_count": 11,
     "metadata": {},
     "output_type": "execute_result"
    }
   ],
   "source": [
    "#a) All the temperature data.\n",
    "cur.execute('SELECT Temperature FROM CITY_DATA')\n",
    "cur.fetchall()"
   ]
  },
  {
   "cell_type": "code",
   "execution_count": 12,
   "id": "8d0394fc",
   "metadata": {},
   "outputs": [
    {
     "data": {
      "text/plain": [
       "[('Mumbai',), ('London',), ('Cairo',)]"
      ]
     },
     "execution_count": 12,
     "metadata": {},
     "output_type": "execute_result"
    }
   ],
   "source": [
    "#b) All the cities, but without repetition.\n",
    "cur.execute('SELECT DISTINCT City FROM CITY_DATA')\n",
    "cur.fetchall()"
   ]
  },
  {
   "cell_type": "code",
   "execution_count": 13,
   "id": "c5b46ad2",
   "metadata": {},
   "outputs": [
    {
     "data": {
      "text/plain": [
       "[('Mumbai', 'India', 'Winter', 24.8, 5.9),\n",
       " ('Mumbai', 'India', 'Spring', 28.4, 16.2),\n",
       " ('Mumbai', 'India', 'Summer', 27.9, 1549.4),\n",
       " ('Mumbai', 'India', 'Fall', 27.6, 346.0)]"
      ]
     },
     "execution_count": 13,
     "metadata": {},
     "output_type": "execute_result"
    }
   ],
   "source": [
    "#c) All the records for India.\n",
    "cur.execute('SELECT * FROM CITY_DATA WHERE Country LIKE \"India%\"')\n",
    "cur.fetchall()"
   ]
  },
  {
   "cell_type": "code",
   "execution_count": 14,
   "id": "76c4faf0",
   "metadata": {},
   "outputs": [
    {
     "data": {
      "text/plain": [
       "[('Mumbai', 'India', 'Fall', 27.6, 346.0),\n",
       " ('London', 'United Kingdom', 'Fall', 10.4, 218.5),\n",
       " ('Cairo', 'Egypt', 'Fall', 22.2, 4.5)]"
      ]
     },
     "execution_count": 14,
     "metadata": {},
     "output_type": "execute_result"
    }
   ],
   "source": [
    "#d) All the Fall records.\n",
    "cur.execute('SELECT * FROM CITY_DATA WHERE Season LIKE \"Fall%\"')\n",
    "cur.fetchall()"
   ]
  },
  {
   "cell_type": "code",
   "execution_count": 15,
   "id": "a9eb6441",
   "metadata": {},
   "outputs": [
    {
     "data": {
      "text/plain": [
       "[('Mumbai', 'India', 'Fall'),\n",
       " ('London', 'United Kingdom', 'Winter'),\n",
       " ('London', 'United Kingdom', 'Fall')]"
      ]
     },
     "execution_count": 15,
     "metadata": {},
     "output_type": "execute_result"
    }
   ],
   "source": [
    " #e) The city, country, and season for which the average rainfall is between 200 and 400 millimeters.\n",
    "cur.execute('SELECT City, Country, Season FROM CITY_DATA WHERE Rainfall BETWEEN 200 AND 400')\n",
    "cur.fetchall()"
   ]
  },
  {
   "cell_type": "code",
   "execution_count": 16,
   "id": "2e1fc4d0",
   "metadata": {
    "scrolled": true
   },
   "outputs": [
    {
     "data": {
      "text/plain": [
       "[('Mumbai', 'India', 28.4),\n",
       " ('Mumbai', 'India', 27.9),\n",
       " ('Cairo', 'Egypt', 27.7),\n",
       " ('Mumbai', 'India', 27.6),\n",
       " ('Mumbai', 'India', 24.8),\n",
       " ('Cairo', 'Egypt', 22.2),\n",
       " ('Cairo', 'Egypt', 20.7)]"
      ]
     },
     "execution_count": 16,
     "metadata": {},
     "output_type": "execute_result"
    }
   ],
   "source": [
    "#f) The city and country for which the average Fall temperature is above 20 degrees,in increasing temperature order.\n",
    "cur.execute('SELECT City, Country,Temperature FROM CITY_DATA WHERE Temperature > 20 ORDER BY Temperature DESC')\n",
    "cur.fetchall()"
   ]
  },
  {
   "cell_type": "code",
   "execution_count": 17,
   "id": "068bb5e6",
   "metadata": {},
   "outputs": [
    {
     "data": {
      "text/plain": [
       "[(27.6, 'Cairo')]"
      ]
     },
     "execution_count": 17,
     "metadata": {},
     "output_type": "execute_result"
    }
   ],
   "source": [
    "#g) The total annual rainfall for Cairo.\n",
    "cur.execute('SELECT SUM(Rainfall) AS RF, City FROM CITY_DATA WHERE City LIKE \"Cairo\" GROUP BY City')\n",
    "cur.fetchall()"
   ]
  },
  {
   "cell_type": "code",
   "execution_count": 18,
   "id": "92989f77",
   "metadata": {},
   "outputs": [
    {
     "data": {
      "text/plain": [
       "[(569.0, 'Fall'),\n",
       " (192.29999999999998, 'Spring'),\n",
       " (1706.5, 'Summer'),\n",
       " (230.1, 'Winter')]"
      ]
     },
     "execution_count": 18,
     "metadata": {},
     "output_type": "execute_result"
    }
   ],
   "source": [
    "#h) The total rainfall for each season.\n",
    "cur.execute('SELECT SUM(Rainfall),Season FROM CITY_DATA GROUP BY Season')\n",
    "cur.fetchall()"
   ]
  },
  {
   "cell_type": "markdown",
   "id": "809248b5",
   "metadata": {},
   "source": [
    "# Question 9"
   ]
  },
  {
   "cell_type": "code",
   "execution_count": 19,
   "id": "18b0f29e",
   "metadata": {},
   "outputs": [
    {
     "name": "stdout",
     "output_type": "stream",
     "text": [
      "['THE', 'QUICK', 'BROWN', 'FOX', 'JUMPS', 'OVER', 'THE', 'LAZY', 'DOG']\n",
      "['the', 'quick', 'brown', 'fox', 'jumps', 'over', 'the', 'lazy', 'dog']\n",
      "[3, 5, 5, 3, 5, 4, 3, 4, 3]\n",
      "[('THE', 'the', 3), ('QUICK', 'quick', 5), ('BROWN', 'brown', 5), ('FOX', 'fox', 3), ('JUMPS', 'jumps', 5), ('OVER', 'over', 4), ('THE', 'the', 3), ('LAZY', 'lazy', 4), ('DOG', 'dog', 3)]\n",
      "['quick', 'brown', 'jumps', 'over', 'lazy']\n"
     ]
    }
   ],
   "source": [
    "words = ['The', 'quick', 'brown', 'fox', 'jumps', 'over', 'the', 'lazy', 'dog']\n",
    "list_words = [a.upper() for a in words] #list the words in uppercase\n",
    "print (list_words)\n",
    "list_words = [b.lower() for b in words]  #list the words in lowecase\n",
    "print (list_words)\n",
    "list_words = [len(c) for c in words] #the list of lengths of words in list words).\n",
    "print (list_words)\n",
    "list_words = [(d.upper(),d.lower(),len(d)) for d in words]  #list containing the word in uppercase and lowercase and the length of the word\n",
    "print (list_words)\n",
    "list_words = [e for e in words if len(e)>=4] #list of words contanining 4 or more characters\n",
    "print (list_words)"
   ]
  }
 ],
 "metadata": {
  "kernelspec": {
   "display_name": "Python 3 (ipykernel)",
   "language": "python",
   "name": "python3"
  },
  "language_info": {
   "codemirror_mode": {
    "name": "ipython",
    "version": 3
   },
   "file_extension": ".py",
   "mimetype": "text/x-python",
   "name": "python",
   "nbconvert_exporter": "python",
   "pygments_lexer": "ipython3",
   "version": "3.10.9"
  }
 },
 "nbformat": 4,
 "nbformat_minor": 5
}
